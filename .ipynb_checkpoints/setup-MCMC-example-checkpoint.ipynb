{
 "cells": [
  {
   "cell_type": "markdown",
   "id": "bffd4cb5-3763-48ba-91b8-3c9b4aa82dd0",
   "metadata": {},
   "source": [
    "## Read in Community Land Model data for MCMC example\n",
    "##### Variable: annual max Leaf Area Index (LAI) spatially averaged over plant functional types (PFTs)\n",
    "\n",
    "##### Linnia Hawkins 10/23/2023\n",
    "\n",
    "##### May need to authenticate github on LEAP hub:  gh-scoped-creds"
   ]
  },
  {
   "cell_type": "markdown",
   "id": "1a55f1b1-0f22-4c98-845b-6c0526d57f03",
   "metadata": {
    "tags": []
   },
   "source": [
    "### Section 1: Read in and organize data"
   ]
  },
  {
   "cell_type": "code",
   "execution_count": 1,
   "id": "99cd2966-1873-4dbb-845d-c6bb65887cef",
   "metadata": {
    "tags": []
   },
   "outputs": [],
   "source": [
    "import numpy as np\n",
    "import pandas as pd\n",
    "import xarray as xr\n",
    "import matplotlib\n",
    "import matplotlib.pyplot as plt\n",
    "\n",
    "import warnings\n",
    "warnings.filterwarnings(\"ignore\")"
   ]
  },
  {
   "cell_type": "code",
   "execution_count": 2,
   "id": "91738dc1-5798-4c5a-a074-ef16e6db1611",
   "metadata": {
    "tags": []
   },
   "outputs": [],
   "source": [
    "#read in CLM simulated Leaf Area Index\n",
    "# data is the annual maximum LAI, temporally averaged 2003-2014, spatially averaged globally\n",
    "# 501 perturbed parameter ensemble members (key: ens) the first ensemble member is the default parameterization of CLM\n",
    "ds = xr.open_dataset('LHC_pmean(TLAImax).nc')\n",
    "pft_LAI = ds['TLAI_pftavg_annMax_2003-2014']"
   ]
  },
  {
   "cell_type": "code",
   "execution_count": 16,
   "id": "8531d63d-73bc-4b71-8aa4-891100dc2b54",
   "metadata": {
    "tags": []
   },
   "outputs": [],
   "source": [
    "# organize y-data \n",
    "pft_id = 1 # only use the first PFT\n",
    "y_data = pft_LAI.isel(pft=pft_id).values[1:].reshape(-1,1) # drop the default ensemble member (0)"
   ]
  },
  {
   "cell_type": "code",
   "execution_count": 20,
   "id": "450c68fe-8893-41c3-abe7-0e4b045c38ac",
   "metadata": {
    "tags": []
   },
   "outputs": [
    {
     "data": {
      "text/plain": [
       "Text(0, 0.5, 'number of PPE ensemble members')"
      ]
     },
     "execution_count": 20,
     "metadata": {},
     "output_type": "execute_result"
    },
    {
     "data": {
      "image/png": "[encoded data removed]",
      "text/plain": [
       "<Figure size 640x480 with 1 Axes>"
      ]
     },
     "metadata": {},
     "output_type": "display_data"
    }
   ],
   "source": [
    "# take a look at the distribution of LAI data for needleleaf evergreen temperate trees (PFT=1)\n",
    "plt.hist(y_data,label = 'PPE LAI')\n",
    "plt.xlabel('Needleleaf Evergreen Temperate Tree LAI')\n",
    "plt.ylabel('number of PPE ensemble members')"
   ]
  },
  {
   "cell_type": "code",
   "execution_count": 44,
   "id": "4c1e5e99-cce1-4ad8-a974-711b3d862bd5",
   "metadata": {
    "tags": []
   },
   "outputs": [
    {
     "data": {
      "text/html": [
       "<div>\n",
       "<style scoped>\n",
       "    .dataframe tbody tr th:only-of-type {\n",
       "        vertical-align: middle;\n",
       "    }\n",
       "\n",
       "    .dataframe tbody tr th {\n",
       "        vertical-align: top;\n",
       "    }\n",
       "\n",
       "    .dataframe thead th {\n",
       "        text-align: right;\n",
       "    }\n",
       "</style>\n",
       "<table border=\"1\" class=\"dataframe\">\n",
       "  <thead>\n",
       "    <tr style=\"text-align: right;\">\n",
       "      <th></th>\n",
       "      <th>FUN_fracfixers</th>\n",
       "      <th>KCN</th>\n",
       "      <th>a_fix</th>\n",
       "      <th>crit_dayl</th>\n",
       "      <th>d_max</th>\n",
       "      <th>fff</th>\n",
       "      <th>froot_leaf</th>\n",
       "      <th>fstor2tran</th>\n",
       "      <th>grperc</th>\n",
       "      <th>jmaxb0</th>\n",
       "      <th>...</th>\n",
       "      <th>psi50</th>\n",
       "      <th>q10_mr</th>\n",
       "      <th>slatop</th>\n",
       "      <th>soilpsi_off</th>\n",
       "      <th>stem_leaf</th>\n",
       "      <th>sucsat_sf</th>\n",
       "      <th>theta_cj</th>\n",
       "      <th>tpu25ratio</th>\n",
       "      <th>tpuse_sf</th>\n",
       "      <th>wc2wjb0</th>\n",
       "    </tr>\n",
       "  </thead>\n",
       "  <tbody>\n",
       "    <tr>\n",
       "      <th>0</th>\n",
       "      <td>0.778311</td>\n",
       "      <td>0.358026</td>\n",
       "      <td>0.255021</td>\n",
       "      <td>0.401235</td>\n",
       "      <td>0.797847</td>\n",
       "      <td>0.130074</td>\n",
       "      <td>0.938827</td>\n",
       "      <td>0.378388</td>\n",
       "      <td>0.196517</td>\n",
       "      <td>0.624727</td>\n",
       "      <td>...</td>\n",
       "      <td>0.196154</td>\n",
       "      <td>0.275884</td>\n",
       "      <td>0.762778</td>\n",
       "      <td>0.137397</td>\n",
       "      <td>0.113845</td>\n",
       "      <td>0.798198</td>\n",
       "      <td>0.036459</td>\n",
       "      <td>0.393617</td>\n",
       "      <td>0.078962</td>\n",
       "      <td>0.684588</td>\n",
       "    </tr>\n",
       "    <tr>\n",
       "      <th>1</th>\n",
       "      <td>0.319329</td>\n",
       "      <td>0.548803</td>\n",
       "      <td>0.630191</td>\n",
       "      <td>0.270024</td>\n",
       "      <td>0.536119</td>\n",
       "      <td>0.679190</td>\n",
       "      <td>0.672215</td>\n",
       "      <td>0.956630</td>\n",
       "      <td>0.934241</td>\n",
       "      <td>0.627186</td>\n",
       "      <td>...</td>\n",
       "      <td>0.816009</td>\n",
       "      <td>0.949813</td>\n",
       "      <td>0.717381</td>\n",
       "      <td>0.743697</td>\n",
       "      <td>0.127340</td>\n",
       "      <td>0.394660</td>\n",
       "      <td>0.093740</td>\n",
       "      <td>0.041084</td>\n",
       "      <td>0.275619</td>\n",
       "      <td>0.878455</td>\n",
       "    </tr>\n",
       "    <tr>\n",
       "      <th>2</th>\n",
       "      <td>0.876772</td>\n",
       "      <td>0.210794</td>\n",
       "      <td>0.662125</td>\n",
       "      <td>0.353350</td>\n",
       "      <td>0.140861</td>\n",
       "      <td>0.342557</td>\n",
       "      <td>0.275203</td>\n",
       "      <td>0.747737</td>\n",
       "      <td>0.823775</td>\n",
       "      <td>0.891879</td>\n",
       "      <td>...</td>\n",
       "      <td>0.995087</td>\n",
       "      <td>0.322946</td>\n",
       "      <td>0.474743</td>\n",
       "      <td>0.805385</td>\n",
       "      <td>0.249964</td>\n",
       "      <td>0.168115</td>\n",
       "      <td>0.282747</td>\n",
       "      <td>0.819746</td>\n",
       "      <td>0.840143</td>\n",
       "      <td>0.951915</td>\n",
       "    </tr>\n",
       "    <tr>\n",
       "      <th>3</th>\n",
       "      <td>0.412051</td>\n",
       "      <td>0.678111</td>\n",
       "      <td>0.398648</td>\n",
       "      <td>0.330947</td>\n",
       "      <td>0.326188</td>\n",
       "      <td>0.210967</td>\n",
       "      <td>0.327117</td>\n",
       "      <td>0.645703</td>\n",
       "      <td>0.777746</td>\n",
       "      <td>0.897482</td>\n",
       "      <td>...</td>\n",
       "      <td>0.328198</td>\n",
       "      <td>0.042303</td>\n",
       "      <td>0.766334</td>\n",
       "      <td>0.354093</td>\n",
       "      <td>0.916163</td>\n",
       "      <td>0.138359</td>\n",
       "      <td>0.635655</td>\n",
       "      <td>0.448417</td>\n",
       "      <td>0.342799</td>\n",
       "      <td>0.989434</td>\n",
       "    </tr>\n",
       "    <tr>\n",
       "      <th>4</th>\n",
       "      <td>0.045135</td>\n",
       "      <td>0.770734</td>\n",
       "      <td>0.298738</td>\n",
       "      <td>0.343413</td>\n",
       "      <td>0.747099</td>\n",
       "      <td>0.207547</td>\n",
       "      <td>0.488125</td>\n",
       "      <td>0.686079</td>\n",
       "      <td>0.459411</td>\n",
       "      <td>0.009303</td>\n",
       "      <td>...</td>\n",
       "      <td>0.602910</td>\n",
       "      <td>0.267256</td>\n",
       "      <td>0.176784</td>\n",
       "      <td>0.507355</td>\n",
       "      <td>0.646416</td>\n",
       "      <td>0.828712</td>\n",
       "      <td>0.466185</td>\n",
       "      <td>0.470941</td>\n",
       "      <td>0.357750</td>\n",
       "      <td>0.909412</td>\n",
       "    </tr>\n",
       "    <tr>\n",
       "      <th>...</th>\n",
       "      <td>...</td>\n",
       "      <td>...</td>\n",
       "      <td>...</td>\n",
       "      <td>...</td>\n",
       "      <td>...</td>\n",
       "      <td>...</td>\n",
       "      <td>...</td>\n",
       "      <td>...</td>\n",
       "      <td>...</td>\n",
       "      <td>...</td>\n",
       "      <td>...</td>\n",
       "      <td>...</td>\n",
       "      <td>...</td>\n",
       "      <td>...</td>\n",
       "      <td>...</td>\n",
       "      <td>...</td>\n",
       "      <td>...</td>\n",
       "      <td>...</td>\n",
       "      <td>...</td>\n",
       "      <td>...</td>\n",
       "      <td>...</td>\n",
       "    </tr>\n",
       "    <tr>\n",
       "      <th>495</th>\n",
       "      <td>0.936317</td>\n",
       "      <td>0.335675</td>\n",
       "      <td>0.821711</td>\n",
       "      <td>0.767823</td>\n",
       "      <td>0.330586</td>\n",
       "      <td>0.745789</td>\n",
       "      <td>0.127834</td>\n",
       "      <td>0.424287</td>\n",
       "      <td>0.609700</td>\n",
       "      <td>0.286311</td>\n",
       "      <td>...</td>\n",
       "      <td>0.246081</td>\n",
       "      <td>0.700532</td>\n",
       "      <td>0.681519</td>\n",
       "      <td>0.206475</td>\n",
       "      <td>0.802992</td>\n",
       "      <td>0.453735</td>\n",
       "      <td>0.624163</td>\n",
       "      <td>0.206822</td>\n",
       "      <td>0.441036</td>\n",
       "      <td>0.411448</td>\n",
       "    </tr>\n",
       "    <tr>\n",
       "      <th>496</th>\n",
       "      <td>0.955479</td>\n",
       "      <td>0.845082</td>\n",
       "      <td>0.019274</td>\n",
       "      <td>0.324838</td>\n",
       "      <td>0.113533</td>\n",
       "      <td>0.540953</td>\n",
       "      <td>0.150098</td>\n",
       "      <td>0.011721</td>\n",
       "      <td>0.227892</td>\n",
       "      <td>0.006216</td>\n",
       "      <td>...</td>\n",
       "      <td>0.910214</td>\n",
       "      <td>0.993029</td>\n",
       "      <td>0.930575</td>\n",
       "      <td>0.653339</td>\n",
       "      <td>0.750147</td>\n",
       "      <td>0.475151</td>\n",
       "      <td>0.536766</td>\n",
       "      <td>0.994792</td>\n",
       "      <td>0.512649</td>\n",
       "      <td>0.000159</td>\n",
       "    </tr>\n",
       "    <tr>\n",
       "      <th>497</th>\n",
       "      <td>0.185969</td>\n",
       "      <td>0.996422</td>\n",
       "      <td>0.422209</td>\n",
       "      <td>0.365048</td>\n",
       "      <td>0.275200</td>\n",
       "      <td>0.320546</td>\n",
       "      <td>0.991583</td>\n",
       "      <td>0.543024</td>\n",
       "      <td>0.037573</td>\n",
       "      <td>0.802632</td>\n",
       "      <td>...</td>\n",
       "      <td>0.346204</td>\n",
       "      <td>0.008894</td>\n",
       "      <td>0.606076</td>\n",
       "      <td>0.406761</td>\n",
       "      <td>0.453041</td>\n",
       "      <td>0.047361</td>\n",
       "      <td>0.765972</td>\n",
       "      <td>0.242643</td>\n",
       "      <td>0.842275</td>\n",
       "      <td>0.731144</td>\n",
       "    </tr>\n",
       "    <tr>\n",
       "      <th>498</th>\n",
       "      <td>0.262130</td>\n",
       "      <td>0.912280</td>\n",
       "      <td>0.533934</td>\n",
       "      <td>0.997431</td>\n",
       "      <td>0.907613</td>\n",
       "      <td>0.991805</td>\n",
       "      <td>0.363534</td>\n",
       "      <td>0.886880</td>\n",
       "      <td>0.763445</td>\n",
       "      <td>0.192524</td>\n",
       "      <td>...</td>\n",
       "      <td>0.805913</td>\n",
       "      <td>0.401231</td>\n",
       "      <td>0.865736</td>\n",
       "      <td>0.573305</td>\n",
       "      <td>0.332778</td>\n",
       "      <td>0.352641</td>\n",
       "      <td>0.842942</td>\n",
       "      <td>0.715950</td>\n",
       "      <td>0.353015</td>\n",
       "      <td>0.358052</td>\n",
       "    </tr>\n",
       "    <tr>\n",
       "      <th>499</th>\n",
       "      <td>0.422114</td>\n",
       "      <td>0.839212</td>\n",
       "      <td>0.144342</td>\n",
       "      <td>0.657058</td>\n",
       "      <td>0.400938</td>\n",
       "      <td>0.027978</td>\n",
       "      <td>0.969087</td>\n",
       "      <td>0.198452</td>\n",
       "      <td>0.025192</td>\n",
       "      <td>0.612521</td>\n",
       "      <td>...</td>\n",
       "      <td>0.402224</td>\n",
       "      <td>0.546837</td>\n",
       "      <td>0.722829</td>\n",
       "      <td>0.285382</td>\n",
       "      <td>0.346998</td>\n",
       "      <td>0.651474</td>\n",
       "      <td>0.505517</td>\n",
       "      <td>0.212370</td>\n",
       "      <td>0.363440</td>\n",
       "      <td>0.156710</td>\n",
       "    </tr>\n",
       "  </tbody>\n",
       "</table>\n",
       "<p>500 rows × 32 columns</p>\n",
       "</div>"
      ],
      "text/plain": [
       "     FUN_fracfixers       KCN     a_fix  crit_dayl     d_max       fff  \\\n",
       "0          0.778311  0.358026  0.255021   0.401235  0.797847  0.130074   \n",
       "1          0.319329  0.548803  0.630191   0.270024  0.536119  0.679190   \n",
       "2          0.876772  0.210794  0.662125   0.353350  0.140861  0.342557   \n",
       "3          0.412051  0.678111  0.398648   0.330947  0.326188  0.210967   \n",
       "4          0.045135  0.770734  0.298738   0.343413  0.747099  0.207547   \n",
       "..              ...       ...       ...        ...       ...       ...   \n",
       "495        0.936317  0.335675  0.821711   0.767823  0.330586  0.745789   \n",
       "496        0.955479  0.845082  0.019274   0.324838  0.113533  0.540953   \n",
       "497        0.185969  0.996422  0.422209   0.365048  0.275200  0.320546   \n",
       "498        0.262130  0.912280  0.533934   0.997431  0.907613  0.991805   \n",
       "499        0.422114  0.839212  0.144342   0.657058  0.400938  0.027978   \n",
       "\n",
       "     froot_leaf  fstor2tran    grperc    jmaxb0  ...     psi50    q10_mr  \\\n",
       "0      0.938827    0.378388  0.196517  0.624727  ...  0.196154  0.275884   \n",
       "1      0.672215    0.956630  0.934241  0.627186  ...  0.816009  0.949813   \n",
       "2      0.275203    0.747737  0.823775  0.891879  ...  0.995087  0.322946   \n",
       "3      0.327117    0.645703  0.777746  0.897482  ...  0.328198  0.042303   \n",
       "4      0.488125    0.686079  0.459411  0.009303  ...  0.602910  0.267256   \n",
       "..          ...         ...       ...       ...  ...       ...       ...   \n",
       "495    0.127834    0.424287  0.609700  0.286311  ...  0.246081  0.700532   \n",
       "496    0.150098    0.011721  0.227892  0.006216  ...  0.910214  0.993029   \n",
       "497    0.991583    0.543024  0.037573  0.802632  ...  0.346204  0.008894   \n",
       "498    0.363534    0.886880  0.763445  0.192524  ...  0.805913  0.401231   \n",
       "499    0.969087    0.198452  0.025192  0.612521  ...  0.402224  0.546837   \n",
       "\n",
       "       slatop  soilpsi_off  stem_leaf  sucsat_sf  theta_cj  tpu25ratio  \\\n",
       "0    0.762778     0.137397   0.113845   0.798198  0.036459    0.393617   \n",
       "1    0.717381     0.743697   0.127340   0.394660  0.093740    0.041084   \n",
       "2    0.474743     0.805385   0.249964   0.168115  0.282747    0.819746   \n",
       "3    0.766334     0.354093   0.916163   0.138359  0.635655    0.448417   \n",
       "4    0.176784     0.507355   0.646416   0.828712  0.466185    0.470941   \n",
       "..        ...          ...        ...        ...       ...         ...   \n",
       "495  0.681519     0.206475   0.802992   0.453735  0.624163    0.206822   \n",
       "496  0.930575     0.653339   0.750147   0.475151  0.536766    0.994792   \n",
       "497  0.606076     0.406761   0.453041   0.047361  0.765972    0.242643   \n",
       "498  0.865736     0.573305   0.332778   0.352641  0.842942    0.715950   \n",
       "499  0.722829     0.285382   0.346998   0.651474  0.505517    0.212370   \n",
       "\n",
       "     tpuse_sf   wc2wjb0  \n",
       "0    0.078962  0.684588  \n",
       "1    0.275619  0.878455  \n",
       "2    0.840143  0.951915  \n",
       "3    0.342799  0.989434  \n",
       "4    0.357750  0.909412  \n",
       "..        ...       ...  \n",
       "495  0.441036  0.411448  \n",
       "496  0.512649  0.000159  \n",
       "497  0.842275  0.731144  \n",
       "498  0.353015  0.358052  \n",
       "499  0.363440  0.156710  \n",
       "\n",
       "[500 rows x 32 columns]"
      ]
     },
     "execution_count": 44,
     "metadata": {},
     "output_type": "execute_result"
    }
   ],
   "source": [
    "# Read in the parameter sets \n",
    "# This is the input X data (CLM parameter settings for each ensemble member)\n",
    "# Columns are CLM parameters and rows are PPE ensemble members (samples)\n",
    "# Parameter space was sampled using Latin Hypercube scheme\n",
    "# each column is normalized\n",
    "lhckey = 'lhc220926.txt'\n",
    "df = pd.read_csv(lhckey)\n",
    "ppe_params = df.drop(columns='member')\n",
    "nparams = np.shape(ppe_params)[1]\n",
    "ppe_params"
   ]
  },
  {
   "cell_type": "code",
   "execution_count": 22,
   "id": "de2651e0-8de1-4c42-ae20-8c9375a4980b",
   "metadata": {
    "tags": []
   },
   "outputs": [],
   "source": [
    "# Example input for MCMC:\n",
    "X = ppe_params.values # 32 parameters\n",
    "y = y_data"
   ]
  },
  {
   "cell_type": "markdown",
   "id": "77cb0721-70f7-4463-b0c2-ea5cb068e455",
   "metadata": {
    "tags": []
   },
   "source": [
    "### Section 2: Example of training Gaussian Process emulators for each PFT"
   ]
  },
  {
   "cell_type": "code",
   "execution_count": 24,
   "id": "59149aae-c94e-4942-ae08-f61bc3b1db36",
   "metadata": {
    "collapsed": true,
    "jupyter": {
     "outputs_hidden": true
    },
    "tags": []
   },
   "outputs": [
    {
     "name": "stdout",
     "output_type": "stream",
     "text": [
      "Warning: you have pip-installed dependencies in your environment file, but you do not list pip itself as one of your conda dependencies.  Conda may not use the correct pip to install your packages, and they may end up in the wrong place.  Please add an explicit pip dependency.  I'm adding one for you, but still nagging you.\n",
      "conda-forge/linux-64                                        Using cache\n",
      "conda-forge/noarch                                          Using cache\n",
      "\n",
      "\n",
      "Looking for: ['pip', 'tensorflow-probability', 'gpflow']\n",
      "\n",
      "\n",
      "Transaction\n",
      "\n",
      "  Prefix: /srv/conda/envs/notebook\n",
      "\n",
      "  All requested packages already installed\n",
      "\n",
      "\u001b[?25l\u001b[2K\u001b[0G\u001b[?25hPreparing transaction: done\n",
      "Verifying transaction: done\n",
      "Executing transaction: done\n",
      "Installing pip dependencies: \\ Ran pip subprocess with arguments:\n",
      "['/srv/conda/envs/notebook/bin/python', '-m', 'pip', 'install', '-U', '-r', '/home/jovyan/LEAP-parameter-exploration/condaenv.9jwydlvw.requirements.txt', '--exists-action=b']\n",
      "Pip subprocess output:\n",
      "Requirement already satisfied: esem in /srv/conda/envs/notebook/lib/python3.10/site-packages (from -r /home/jovyan/LEAP-parameter-exploration/condaenv.9jwydlvw.requirements.txt (line 1)) (1.1.0)\n",
      "Requirement already satisfied: SALib in /srv/conda/envs/notebook/lib/python3.10/site-packages (from -r /home/jovyan/LEAP-parameter-exploration/condaenv.9jwydlvw.requirements.txt (line 2)) (1.4.7)\n",
      "Requirement already satisfied: tensorflow in /srv/conda/envs/notebook/lib/python3.10/site-packages (from esem->-r /home/jovyan/LEAP-parameter-exploration/condaenv.9jwydlvw.requirements.txt (line 1)) (2.12.1)\n",
      "Requirement already satisfied: tensorflow-probability in /srv/conda/envs/notebook/lib/python3.10/site-packages (from esem->-r /home/jovyan/LEAP-parameter-exploration/condaenv.9jwydlvw.requirements.txt (line 1)) (0.20.0)\n",
      "Requirement already satisfied: numpy in /srv/conda/envs/notebook/lib/python3.10/site-packages (from esem->-r /home/jovyan/LEAP-parameter-exploration/condaenv.9jwydlvw.requirements.txt (line 1)) (1.24.4)\n",
      "Requirement already satisfied: matplotlib in /srv/conda/envs/notebook/lib/python3.10/site-packages (from esem->-r /home/jovyan/LEAP-parameter-exploration/condaenv.9jwydlvw.requirements.txt (line 1)) (3.7.2)\n",
      "Requirement already satisfied: scipy in /srv/conda/envs/notebook/lib/python3.10/site-packages (from esem->-r /home/jovyan/LEAP-parameter-exploration/condaenv.9jwydlvw.requirements.txt (line 1)) (1.11.2)\n",
      "Requirement already satisfied: tqdm in /srv/conda/envs/notebook/lib/python3.10/site-packages (from esem->-r /home/jovyan/LEAP-parameter-exploration/condaenv.9jwydlvw.requirements.txt (line 1)) (4.66.1)\n",
      "Requirement already satisfied: setuptools>=40.4 in /srv/conda/envs/notebook/lib/python3.10/site-packages (from esem->-r /home/jovyan/LEAP-parameter-exploration/condaenv.9jwydlvw.requirements.txt (line 1)) (68.1.2)\n",
      "Requirement already satisfied: multiprocess in /srv/conda/envs/notebook/lib/python3.10/site-packages (from SALib->-r /home/jovyan/LEAP-parameter-exploration/condaenv.9jwydlvw.requirements.txt (line 2)) (0.70.15)\n",
      "Requirement already satisfied: pandas>=1.1.2 in /srv/conda/envs/notebook/lib/python3.10/site-packages (from SALib->-r /home/jovyan/LEAP-parameter-exploration/condaenv.9jwydlvw.requirements.txt (line 2)) (2.0.3)\n",
      "Requirement already satisfied: contourpy>=1.0.1 in /srv/conda/envs/notebook/lib/python3.10/site-packages (from matplotlib->esem->-r /home/jovyan/LEAP-parameter-exploration/condaenv.9jwydlvw.requirements.txt (line 1)) (1.1.0)\n",
      "Requirement already satisfied: cycler>=0.10 in /srv/conda/envs/notebook/lib/python3.10/site-packages (from matplotlib->esem->-r /home/jovyan/LEAP-parameter-exploration/condaenv.9jwydlvw.requirements.txt (line 1)) (0.11.0)\n",
      "Requirement already satisfied: fonttools>=4.22.0 in /srv/conda/envs/notebook/lib/python3.10/site-packages (from matplotlib->esem->-r /home/jovyan/LEAP-parameter-exploration/condaenv.9jwydlvw.requirements.txt (line 1)) (4.42.1)\n",
      "Requirement already satisfied: kiwisolver>=1.0.1 in /srv/conda/envs/notebook/lib/python3.10/site-packages (from matplotlib->esem->-r /home/jovyan/LEAP-parameter-exploration/condaenv.9jwydlvw.requirements.txt (line 1)) (1.4.5)\n",
      "Requirement already satisfied: packaging>=20.0 in /srv/conda/envs/notebook/lib/python3.10/site-packages (from matplotlib->esem->-r /home/jovyan/LEAP-parameter-exploration/condaenv.9jwydlvw.requirements.txt (line 1)) (23.1)\n",
      "Requirement already satisfied: pillow>=6.2.0 in /srv/conda/envs/notebook/lib/python3.10/site-packages (from matplotlib->esem->-r /home/jovyan/LEAP-parameter-exploration/condaenv.9jwydlvw.requirements.txt (line 1)) (10.0.0)\n",
      "Requirement already satisfied: pyparsing<3.1,>=2.3.1 in /srv/conda/envs/notebook/lib/python3.10/site-packages (from matplotlib->esem->-r /home/jovyan/LEAP-parameter-exploration/condaenv.9jwydlvw.requirements.txt (line 1)) (3.0.9)\n",
      "Requirement already satisfied: python-dateutil>=2.7 in /srv/conda/envs/notebook/lib/python3.10/site-packages (from matplotlib->esem->-r /home/jovyan/LEAP-parameter-exploration/condaenv.9jwydlvw.requirements.txt (line 1)) (2.8.2)\n",
      "Requirement already satisfied: pytz>=2020.1 in /srv/conda/envs/notebook/lib/python3.10/site-packages (from pandas>=1.1.2->SALib->-r /home/jovyan/LEAP-parameter-exploration/condaenv.9jwydlvw.requirements.txt (line 2)) (2023.3)\n",
      "Requirement already satisfied: tzdata>=2022.1 in /srv/conda/envs/notebook/lib/python3.10/site-packages (from pandas>=1.1.2->SALib->-r /home/jovyan/LEAP-parameter-exploration/condaenv.9jwydlvw.requirements.txt (line 2)) (2023.3)\n",
      "Requirement already satisfied: dill>=0.3.7 in /srv/conda/envs/notebook/lib/python3.10/site-packages (from multiprocess->SALib->-r /home/jovyan/LEAP-parameter-exploration/condaenv.9jwydlvw.requirements.txt (line 2)) (0.3.7)\n",
      "Requirement already satisfied: absl-py>=1.0.0 in /srv/conda/envs/notebook/lib/python3.10/site-packages (from tensorflow->esem->-r /home/jovyan/LEAP-parameter-exploration/condaenv.9jwydlvw.requirements.txt (line 1)) (2.0.0)\n",
      "Requirement already satisfied: astunparse>=1.6.0 in /srv/conda/envs/notebook/lib/python3.10/site-packages (from tensorflow->esem->-r /home/jovyan/LEAP-parameter-exploration/condaenv.9jwydlvw.requirements.txt (line 1)) (1.6.3)\n",
      "Requirement already satisfied: flatbuffers>=2.0 in /srv/conda/envs/notebook/lib/python3.10/site-packages (from tensorflow->esem->-r /home/jovyan/LEAP-parameter-exploration/condaenv.9jwydlvw.requirements.txt (line 1)) (23.5.26)\n",
      "Requirement already satisfied: gast<=0.4.0,>=0.2.1 in /srv/conda/envs/notebook/lib/python3.10/site-packages (from tensorflow->esem->-r /home/jovyan/LEAP-parameter-exploration/condaenv.9jwydlvw.requirements.txt (line 1)) (0.4.0)\n",
      "Requirement already satisfied: google-pasta>=0.1.1 in /srv/conda/envs/notebook/lib/python3.10/site-packages (from tensorflow->esem->-r /home/jovyan/LEAP-parameter-exploration/condaenv.9jwydlvw.requirements.txt (line 1)) (0.2.0)\n",
      "Requirement already satisfied: h5py>=2.9.0 in /srv/conda/envs/notebook/lib/python3.10/site-packages (from tensorflow->esem->-r /home/jovyan/LEAP-parameter-exploration/condaenv.9jwydlvw.requirements.txt (line 1)) (3.9.0)\n",
      "Requirement already satisfied: jax>=0.3.15 in /srv/conda/envs/notebook/lib/python3.10/site-packages (from tensorflow->esem->-r /home/jovyan/LEAP-parameter-exploration/condaenv.9jwydlvw.requirements.txt (line 1)) (0.4.17)\n",
      "Requirement already satisfied: opt-einsum>=2.3.2 in /srv/conda/envs/notebook/lib/python3.10/site-packages (from tensorflow->esem->-r /home/jovyan/LEAP-parameter-exploration/condaenv.9jwydlvw.requirements.txt (line 1)) (3.3.0)\n",
      "Requirement already satisfied: protobuf!=4.21.0,!=4.21.1,!=4.21.2,!=4.21.3,!=4.21.4,!=4.21.5,<5.0.0dev,>=3.20.3 in /srv/conda/envs/notebook/lib/python3.10/site-packages (from tensorflow->esem->-r /home/jovyan/LEAP-parameter-exploration/condaenv.9jwydlvw.requirements.txt (line 1)) (4.21.12)\n",
      "Requirement already satisfied: six>=1.12.0 in /srv/conda/envs/notebook/lib/python3.10/site-packages (from tensorflow->esem->-r /home/jovyan/LEAP-parameter-exploration/condaenv.9jwydlvw.requirements.txt (line 1)) (1.16.0)\n",
      "Requirement already satisfied: termcolor>=1.1.0 in /srv/conda/envs/notebook/lib/python3.10/site-packages (from tensorflow->esem->-r /home/jovyan/LEAP-parameter-exploration/condaenv.9jwydlvw.requirements.txt (line 1)) (2.3.0)\n",
      "Requirement already satisfied: typing-extensions<4.6.0,>=3.6.6 in /srv/conda/envs/notebook/lib/python3.10/site-packages (from tensorflow->esem->-r /home/jovyan/LEAP-parameter-exploration/condaenv.9jwydlvw.requirements.txt (line 1)) (4.5.0)\n",
      "Requirement already satisfied: wrapt>=1.11.0 in /srv/conda/envs/notebook/lib/python3.10/site-packages (from tensorflow->esem->-r /home/jovyan/LEAP-parameter-exploration/condaenv.9jwydlvw.requirements.txt (line 1)) (1.15.0)\n",
      "Requirement already satisfied: grpcio<2.0,>=1.24.3 in /srv/conda/envs/notebook/lib/python3.10/site-packages (from tensorflow->esem->-r /home/jovyan/LEAP-parameter-exploration/condaenv.9jwydlvw.requirements.txt (line 1)) (1.54.3)\n",
      "Requirement already satisfied: tensorboard<2.13,>=2.12 in /srv/conda/envs/notebook/lib/python3.10/site-packages (from tensorflow->esem->-r /home/jovyan/LEAP-parameter-exploration/condaenv.9jwydlvw.requirements.txt (line 1)) (2.12.3)\n",
      "Requirement already satisfied: tensorflow-estimator<2.13,>=2.12.0 in /srv/conda/envs/notebook/lib/python3.10/site-packages (from tensorflow->esem->-r /home/jovyan/LEAP-parameter-exploration/condaenv.9jwydlvw.requirements.txt (line 1)) (2.12.0)\n",
      "Requirement already satisfied: keras<2.13,>=2.12.0 in /srv/conda/envs/notebook/lib/python3.10/site-packages (from tensorflow->esem->-r /home/jovyan/LEAP-parameter-exploration/condaenv.9jwydlvw.requirements.txt (line 1)) (2.12.0)\n",
      "Requirement already satisfied: decorator in /srv/conda/envs/notebook/lib/python3.10/site-packages (from tensorflow-probability->esem->-r /home/jovyan/LEAP-parameter-exploration/condaenv.9jwydlvw.requirements.txt (line 1)) (5.1.1)\n",
      "Requirement already satisfied: cloudpickle>=1.3 in /srv/conda/envs/notebook/lib/python3.10/site-packages (from tensorflow-probability->esem->-r /home/jovyan/LEAP-parameter-exploration/condaenv.9jwydlvw.requirements.txt (line 1)) (2.2.1)\n",
      "Requirement already satisfied: dm-tree in /srv/conda/envs/notebook/lib/python3.10/site-packages (from tensorflow-probability->esem->-r /home/jovyan/LEAP-parameter-exploration/condaenv.9jwydlvw.requirements.txt (line 1)) (0.1.8)\n",
      "Requirement already satisfied: wheel<1.0,>=0.23.0 in /srv/conda/envs/notebook/lib/python3.10/site-packages (from astunparse>=1.6.0->tensorflow->esem->-r /home/jovyan/LEAP-parameter-exploration/condaenv.9jwydlvw.requirements.txt (line 1)) (0.41.2)\n",
      "Requirement already satisfied: ml-dtypes>=0.2.0 in /srv/conda/envs/notebook/lib/python3.10/site-packages (from jax>=0.3.15->tensorflow->esem->-r /home/jovyan/LEAP-parameter-exploration/condaenv.9jwydlvw.requirements.txt (line 1)) (0.3.1)\n",
      "Requirement already satisfied: google-auth<3,>=1.6.3 in /srv/conda/envs/notebook/lib/python3.10/site-packages (from tensorboard<2.13,>=2.12->tensorflow->esem->-r /home/jovyan/LEAP-parameter-exploration/condaenv.9jwydlvw.requirements.txt (line 1)) (2.22.0)\n",
      "Requirement already satisfied: google-auth-oauthlib<1.1,>=0.5 in /srv/conda/envs/notebook/lib/python3.10/site-packages (from tensorboard<2.13,>=2.12->tensorflow->esem->-r /home/jovyan/LEAP-parameter-exploration/condaenv.9jwydlvw.requirements.txt (line 1)) (1.0.0)\n",
      "Requirement already satisfied: markdown>=2.6.8 in /srv/conda/envs/notebook/lib/python3.10/site-packages (from tensorboard<2.13,>=2.12->tensorflow->esem->-r /home/jovyan/LEAP-parameter-exploration/condaenv.9jwydlvw.requirements.txt (line 1)) (3.4.4)\n",
      "Requirement already satisfied: requests<3,>=2.21.0 in /srv/conda/envs/notebook/lib/python3.10/site-packages (from tensorboard<2.13,>=2.12->tensorflow->esem->-r /home/jovyan/LEAP-parameter-exploration/condaenv.9jwydlvw.requirements.txt (line 1)) (2.31.0)\n",
      "Requirement already satisfied: tensorboard-data-server<0.8.0,>=0.7.0 in /srv/conda/envs/notebook/lib/python3.10/site-packages (from tensorboard<2.13,>=2.12->tensorflow->esem->-r /home/jovyan/LEAP-parameter-exploration/condaenv.9jwydlvw.requirements.txt (line 1)) (0.7.0)\n",
      "Requirement already satisfied: werkzeug>=1.0.1 in /srv/conda/envs/notebook/lib/python3.10/site-packages (from tensorboard<2.13,>=2.12->tensorflow->esem->-r /home/jovyan/LEAP-parameter-exploration/condaenv.9jwydlvw.requirements.txt (line 1)) (3.0.0)\n",
      "Requirement already satisfied: cachetools<6.0,>=2.0.0 in /srv/conda/envs/notebook/lib/python3.10/site-packages (from google-auth<3,>=1.6.3->tensorboard<2.13,>=2.12->tensorflow->esem->-r /home/jovyan/LEAP-parameter-exploration/condaenv.9jwydlvw.requirements.txt (line 1)) (5.3.1)\n",
      "Requirement already satisfied: pyasn1-modules>=0.2.1 in /srv/conda/envs/notebook/lib/python3.10/site-packages (from google-auth<3,>=1.6.3->tensorboard<2.13,>=2.12->tensorflow->esem->-r /home/jovyan/LEAP-parameter-exploration/condaenv.9jwydlvw.requirements.txt (line 1)) (0.2.7)\n",
      "Requirement already satisfied: rsa<5,>=3.1.4 in /srv/conda/envs/notebook/lib/python3.10/site-packages (from google-auth<3,>=1.6.3->tensorboard<2.13,>=2.12->tensorflow->esem->-r /home/jovyan/LEAP-parameter-exploration/condaenv.9jwydlvw.requirements.txt (line 1)) (4.7.2)\n",
      "Requirement already satisfied: urllib3<2.0 in /srv/conda/envs/notebook/lib/python3.10/site-packages (from google-auth<3,>=1.6.3->tensorboard<2.13,>=2.12->tensorflow->esem->-r /home/jovyan/LEAP-parameter-exploration/condaenv.9jwydlvw.requirements.txt (line 1)) (1.26.15)\n",
      "Requirement already satisfied: requests-oauthlib>=0.7.0 in /srv/conda/envs/notebook/lib/python3.10/site-packages (from google-auth-oauthlib<1.1,>=0.5->tensorboard<2.13,>=2.12->tensorflow->esem->-r /home/jovyan/LEAP-parameter-exploration/condaenv.9jwydlvw.requirements.txt (line 1)) (1.3.1)\n",
      "Requirement already satisfied: charset-normalizer<4,>=2 in /srv/conda/envs/notebook/lib/python3.10/site-packages (from requests<3,>=2.21.0->tensorboard<2.13,>=2.12->tensorflow->esem->-r /home/jovyan/LEAP-parameter-exploration/condaenv.9jwydlvw.requirements.txt (line 1)) (3.2.0)\n",
      "Requirement already satisfied: idna<4,>=2.5 in /srv/conda/envs/notebook/lib/python3.10/site-packages (from requests<3,>=2.21.0->tensorboard<2.13,>=2.12->tensorflow->esem->-r /home/jovyan/LEAP-parameter-exploration/condaenv.9jwydlvw.requirements.txt (line 1)) (3.4)\n",
      "Requirement already satisfied: certifi>=2017.4.17 in /srv/conda/envs/notebook/lib/python3.10/site-packages (from requests<3,>=2.21.0->tensorboard<2.13,>=2.12->tensorflow->esem->-r /home/jovyan/LEAP-parameter-exploration/condaenv.9jwydlvw.requirements.txt (line 1)) (2023.7.22)\n",
      "Requirement already satisfied: MarkupSafe>=2.1.1 in /srv/conda/envs/notebook/lib/python3.10/site-packages (from werkzeug>=1.0.1->tensorboard<2.13,>=2.12->tensorflow->esem->-r /home/jovyan/LEAP-parameter-exploration/condaenv.9jwydlvw.requirements.txt (line 1)) (2.1.3)\n",
      "Requirement already satisfied: pyasn1<0.5.0,>=0.4.6 in /srv/conda/envs/notebook/lib/python3.10/site-packages (from pyasn1-modules>=0.2.1->google-auth<3,>=1.6.3->tensorboard<2.13,>=2.12->tensorflow->esem->-r /home/jovyan/LEAP-parameter-exploration/condaenv.9jwydlvw.requirements.txt (line 1)) (0.4.8)\n",
      "Requirement already satisfied: oauthlib>=3.0.0 in /srv/conda/envs/notebook/lib/python3.10/site-packages (from requests-oauthlib>=0.7.0->google-auth-oauthlib<1.1,>=0.5->tensorboard<2.13,>=2.12->tensorflow->esem->-r /home/jovyan/LEAP-parameter-exploration/condaenv.9jwydlvw.requirements.txt (line 1)) (3.2.2)\n",
      "\n",
      "done\n",
      "#\n",
      "# To activate this environment, use\n",
      "#\n",
      "#     $ conda activate /srv/conda/envs/notebook\n",
      "#\n",
      "# To deactivate an active environment, use\n",
      "#\n",
      "#     $ conda deactivate\n",
      "\n"
     ]
    }
   ],
   "source": [
    "! mamba env update -f environment.yml"
   ]
  },
  {
   "cell_type": "code",
   "execution_count": 28,
   "id": "59308314-5fe8-4e78-972f-74c76a7f05c3",
   "metadata": {
    "tags": []
   },
   "outputs": [
    {
     "name": "stderr",
     "output_type": "stream",
     "text": [
      "2023-10-24 20:32:43.595362: I tensorflow/core/util/port.cc:110] oneDNN custom operations are on. You may see slightly different numerical results due to floating-point round-off errors from different computation orders. To turn them off, set the environment variable `TF_ENABLE_ONEDNN_OPTS=0`.\n",
      "2023-10-24 20:32:43.623669: I tensorflow/core/platform/cpu_feature_guard.cc:182] This TensorFlow binary is optimized to use available CPU instructions in performance-critical operations.\n",
      "To enable the following instructions: SSE4.1 SSE4.2 AVX AVX2 AVX512F AVX512_VNNI FMA, in other operations, rebuild TensorFlow with the appropriate compiler flags.\n"
     ]
    }
   ],
   "source": [
    "from esem import gp_model\n",
    "from esem.utils import get_random_params\n",
    "import gpflow\n",
    "from sklearn.metrics import r2_score\n",
    "from sklearn.preprocessing import StandardScaler\n",
    "scaler = StandardScaler()"
   ]
  },
  {
   "cell_type": "code",
   "execution_count": 45,
   "id": "a61bd2fd-73d3-4511-a0a2-a61a71f23a22",
   "metadata": {
    "tags": []
   },
   "outputs": [],
   "source": [
    "# Define kernels\n",
    "kernel_linear = gpflow.kernels.Linear(active_dims=range(nparams),variance=1)\n",
    "kernel_matern32 = gpflow.kernels.Matern32(active_dims=range(nparams), variance=1, lengthscales = np.tile(1,32))\n",
    "kernel_RBF = gpflow.kernels.RBF(active_dims = range(nparams), lengthscales=np.tile(1,nparams))\n",
    "\n",
    "# select the kernal to use\n",
    "kernel = kernel_linear + kernel_matern32 + kernel_RBF"
   ]
  },
  {
   "cell_type": "code",
   "execution_count": 46,
   "id": "e803ff48-8212-422b-a3c6-4c6aa46733ab",
   "metadata": {
    "tags": []
   },
   "outputs": [],
   "source": [
    "# train GPR emulator for individual PFT\n",
    "Y = scaler.fit_transform(y_data)\n",
    "\n",
    "n_test = 50 # number of ensemble members to withhold for validating emulator\n",
    "\n",
    "X_test, X_train = ppe_params[:n_test], ppe_params[n_test:] # no need to randomly sample from a Latin Hypercube\n",
    "y_test, y_train = Y[:n_test], Y[n_test:]\n",
    "\n",
    "# define emulator model and train\n",
    "emulator = gpflow.models.GPR(data=(X_train, y_train), kernel=kernel, mean_function=None)\n",
    "\n",
    "opt = gpflow.optimizers.Scipy()\n",
    "opt_logs = opt.minimize(emulator.training_loss, emulator.trainable_variables, options=dict(maxiter=100))\n"
   ]
  },
  {
   "cell_type": "code",
   "execution_count": 47,
   "id": "075a5d9b-d65c-4d7e-bf1a-b4ed6ef7b540",
   "metadata": {
    "tags": []
   },
   "outputs": [
    {
     "data": {
      "text/plain": [
       "Text([1.568984], [13.19900904], 'R2 = 0.94')"
      ]
     },
     "execution_count": 47,
     "metadata": {},
     "output_type": "execute_result"
    },
    {
     "data": {
      "image/png": "[encoded data removed]",
      "text/plain": [
       "<Figure size 640x480 with 1 Axes>"
      ]
     },
     "metadata": {},
     "output_type": "display_data"
    }
   ],
   "source": [
    "# Plot emulator validation (in raw, unstandardized space)\n",
    "y_pred, y_pred_var = emulator.predict_f(X_test.values)\n",
    "r2 = r2_score(y_test,y_pred)\n",
    "\n",
    "y_test_raw = scaler.inverse_transform(y_test)\n",
    "y_pred_raw = scaler.inverse_transform(y_pred)\n",
    "\n",
    "plt.plot([min(y_test_raw),max(y_test_raw)],[min(y_test_raw),max(y_test_raw)],c='k',linestyle='--',label='1:1 line')\n",
    "plt.scatter(y_test_raw,y_pred_raw)\n",
    "plt.text(min(y_test_raw),max(y_test_raw)*0.95,'R2 = '+str(np.round(r2,3)),fontsize=10)\n",
    "\n",
    "#plt.savefig('PFT_emulator_eval_GM-AM-LAI_NLtree.png',dpi=200)"
   ]
  },
  {
   "cell_type": "markdown",
   "id": "d7e44106-f7af-400a-ad76-ab85eb7f9ae0",
   "metadata": {
    "tags": []
   },
   "source": [
    "### Section 3: use the emulators to predict LAI for other CLM parameter combinations (not in the PPE)"
   ]
  },
  {
   "cell_type": "code",
   "execution_count": 37,
   "id": "4dae52a4-02cd-4310-8608-017bf727ed3f",
   "metadata": {
    "tags": []
   },
   "outputs": [
    {
     "data": {
      "text/plain": [
       "(1000, 32)"
      ]
     },
     "execution_count": 37,
     "metadata": {},
     "output_type": "execute_result"
    }
   ],
   "source": [
    "n_params = len(ppe_params.columns)\n",
    "new_sample = get_random_params(n_params,1000)\n",
    "np.shape(new_sample)"
   ]
  },
  {
   "cell_type": "code",
   "execution_count": 38,
   "id": "6b5363b7-1b2d-4f3e-9336-190f8ff4b37a",
   "metadata": {
    "tags": []
   },
   "outputs": [],
   "source": [
    "y_pred_new, _ = emulator.predict(new_sample)"
   ]
  },
  {
   "cell_type": "code",
   "execution_count": 39,
   "id": "b4b96950-b9c4-465b-bede-3c0dd0840716",
   "metadata": {
    "tags": []
   },
   "outputs": [],
   "source": [
    "var_raw = pft_LAI.isel(pft=pft_id)[1:].values.reshape(-1, 1)\n",
    "scaler.fit(var_raw)\n",
    "lai_pred = scaler.inverse_transform(y_pred_new)"
   ]
  },
  {
   "cell_type": "code",
   "execution_count": 40,
   "id": "8d68c934-4f6a-4e0b-a2be-9f92682a7a04",
   "metadata": {
    "tags": []
   },
   "outputs": [
    {
     "data": {
      "text/plain": [
       "(array([  9.,  33., 126., 217., 266., 181., 115.,  39.,  11.,   3.]),\n",
       " array([-1.63769435,  0.25059099,  2.13887634,  4.02716168,  5.91544702,\n",
       "         7.80373237,  9.69201771, 11.58030305, 13.4685884 , 15.35687374,\n",
       "        17.24515908]),\n",
       " <BarContainer object of 10 artists>)"
      ]
     },
     "execution_count": 40,
     "metadata": {},
     "output_type": "execute_result"
    },
    {
     "data": {
      "image/png": "[encoded data removed]",
      "text/plain": [
       "<Figure size 640x480 with 1 Axes>"
      ]
     },
     "metadata": {},
     "output_type": "display_data"
    }
   ],
   "source": [
    "plt.hist(lai_pred)"
   ]
  },
  {
   "cell_type": "code",
   "execution_count": null,
   "id": "d33a5f85-fa4f-4aed-85c5-202937856db1",
   "metadata": {},
   "outputs": [],
   "source": []
  }
 ],
 "metadata": {
  "kernelspec": {
   "display_name": "Python 3 (ipykernel)",
   "language": "python",
   "name": "python3"
  },
  "language_info": {
   "codemirror_mode": {
    "name": "ipython",
    "version": 3
   },
   "file_extension": ".py",
   "mimetype": "text/x-python",
   "name": "python",
   "nbconvert_exporter": "python",
   "pygments_lexer": "ipython3",
   "version": "3.10.12"
  }
 },
 "nbformat": 4,
 "nbformat_minor": 5
}
